{
 "cells": [
  {
   "cell_type": "code",
   "execution_count": null,
   "id": "e3e4496b-a65b-47c9-9ec8-aeaf8492e80a",
   "metadata": {},
   "outputs": [],
   "source": []
  },
  {
   "cell_type": "code",
   "execution_count": 1,
   "id": "8af284dc-abf4-4288-a2f4-4cb24db59f37",
   "metadata": {},
   "outputs": [],
   "source": [
    "# pip install spacy"
   ]
  },
  {
   "cell_type": "code",
   "execution_count": 2,
   "id": "e8a23da0-dfbe-432c-91b1-f692e20371db",
   "metadata": {},
   "outputs": [],
   "source": [
    "# !python -m spacy download en_core_web_sm\n"
   ]
  },
  {
   "cell_type": "code",
   "execution_count": 3,
   "id": "5ec9d9ad-211e-41a4-85e6-f729e73d7d7b",
   "metadata": {},
   "outputs": [],
   "source": [
    "# !pip install numpy==1.26.4\n",
    "# !pip install h5py==3.10.0\n",
    "# !pip install spacy==3.7.4\n",
    "# !pip install notebook ipykernel\n"
   ]
  },
  {
   "cell_type": "code",
   "execution_count": 4,
   "id": "718b00c6-6c1f-433c-876c-4fe3bd7b3b99",
   "metadata": {},
   "outputs": [],
   "source": [
    "# !python -m spacy download en_core_web_sm"
   ]
  },
  {
   "cell_type": "code",
   "execution_count": 5,
   "id": "fef81846-0a28-467e-a70f-6e2f900f5b3b",
   "metadata": {},
   "outputs": [
    {
     "name": "stdout",
     "output_type": "stream",
     "text": [
      "1️⃣ Tokens:\n",
      "['\\n', 'Hello', 'this', 'is', 'a', 'sample', 'text', '!', '.', 'Ok', '!', '\\n']\n",
      "\n",
      "2️⃣ After Punctuation Removal:\n",
      "['\\n', 'Hello', 'this', 'is', 'a', 'sample', 'text', 'Ok', '\\n']\n",
      "\n",
      "3️⃣ After Stop Word Removal:\n",
      "['\\n', 'Hello', 'sample', 'text', 'Ok', '\\n']\n",
      "\n",
      "4️⃣ Lemmatized Words:\n",
      "['\\n', 'hello', 'sample', 'text', 'ok', '\\n']\n",
      "\n",
      "5️⃣ POS Tags:\n",
      "[('\\n', 'SPACE'), ('Hello', 'INTJ'), ('this', 'PRON'), ('is', 'AUX'), ('a', 'DET'), ('sample', 'NOUN'), ('text', 'NOUN'), ('!', 'PUNCT'), ('.', 'PUNCT'), ('Ok', 'INTJ'), ('!', 'PUNCT'), ('\\n', 'SPACE')]\n"
     ]
    }
   ],
   "source": [
    "import spacy\n",
    "from spacy.lang.en.stop_words import STOP_WORDS\n",
    "import string\n",
    "\n",
    "\n",
    "nlp = spacy.load(\"en_core_web_sm\")\n",
    "\n",
    "\n",
    "sample_text = \"\"\"\n",
    "Hello this is a sample text !. Ok !\n",
    "\"\"\"\n",
    "\n",
    "\n",
    "doc = nlp(sample_text)\n",
    "\n",
    "\n",
    "tokens = [token.text for token in doc]\n",
    "print(\"1️⃣ Tokens:\")\n",
    "print(tokens)\n",
    "\n",
    "\n",
    "tokens_no_punct = [token.text for token in doc if token.text not in string.punctuation]\n",
    "print(\"\\n2️⃣ After Punctuation Removal:\")\n",
    "print(tokens_no_punct)\n",
    "\n",
    "\n",
    "tokens_no_stopwords = [token.text for token in doc if not token.is_stop and token.text not in string.punctuation]\n",
    "print(\"\\n3️⃣ After Stop Word Removal:\")\n",
    "print(tokens_no_stopwords)\n",
    "\n",
    "\n",
    "lemmatized = [token.lemma_ for token in doc if not token.is_stop and token.text not in string.punctuation]\n",
    "print(\"\\n4️⃣ Lemmatized Words:\")\n",
    "print(lemmatized)\n",
    "\n",
    "\n",
    "pos_tags = [(token.text, token.pos_) for token in doc]\n",
    "print(\"\\n5️⃣ POS Tags:\")\n",
    "print(pos_tags)"
   ]
  },
  {
   "cell_type": "code",
   "execution_count": null,
   "id": "f81032bb-8e9b-4e23-b751-31ac51182544",
   "metadata": {},
   "outputs": [],
   "source": []
  }
 ],
 "metadata": {
  "kernelspec": {
   "display_name": "Python [conda env:base] *",
   "language": "python",
   "name": "conda-base-py"
  },
  "language_info": {
   "codemirror_mode": {
    "name": "ipython",
    "version": 3
   },
   "file_extension": ".py",
   "mimetype": "text/x-python",
   "name": "python",
   "nbconvert_exporter": "python",
   "pygments_lexer": "ipython3",
   "version": "3.12.7"
  }
 },
 "nbformat": 4,
 "nbformat_minor": 5
}
