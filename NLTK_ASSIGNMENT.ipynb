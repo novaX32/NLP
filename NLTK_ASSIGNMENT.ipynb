{
 "cells": [
  {
   "cell_type": "code",
   "execution_count": 1,
   "id": "84545386-a1a6-4887-8b8d-cd981e8fb75f",
   "metadata": {},
   "outputs": [
    {
     "name": "stderr",
     "output_type": "stream",
     "text": [
      "[nltk_data] Downloading package punkt_tab to\n",
      "[nltk_data]     C:\\Users\\chava\\AppData\\Roaming\\nltk_data...\n",
      "[nltk_data]   Package punkt_tab is already up-to-date!\n"
     ]
    },
    {
     "data": {
      "text/plain": [
       "True"
      ]
     },
     "execution_count": 1,
     "metadata": {},
     "output_type": "execute_result"
    }
   ],
   "source": [
    "import nltk\n",
    "from nltk.tokenize import sent_tokenize,word_tokenize\n",
    "nltk.download('punkt_tab')"
   ]
  },
  {
   "cell_type": "markdown",
   "id": "248ae6d8-d977-4436-96d3-d946e3691b1c",
   "metadata": {},
   "source": [
    "# tokenize"
   ]
  },
  {
   "cell_type": "code",
   "execution_count": 3,
   "id": "2a9c7c5b-07ed-4f99-b9f5-4d0803e2181d",
   "metadata": {},
   "outputs": [],
   "source": [
    "my_word=\"Hii my name is NovaX\""
   ]
  },
  {
   "cell_type": "code",
   "execution_count": 4,
   "id": "ff96a9d8-3ce6-4722-9c60-b19bc8850dd9",
   "metadata": {},
   "outputs": [
    {
     "data": {
      "text/plain": [
       "['Hii my name is NovaX']"
      ]
     },
     "execution_count": 4,
     "metadata": {},
     "output_type": "execute_result"
    }
   ],
   "source": [
    "sent_tokenize(my_word)"
   ]
  },
  {
   "cell_type": "code",
   "execution_count": 5,
   "id": "71134b6a-0143-4af0-b6aa-4b17a5ff404d",
   "metadata": {},
   "outputs": [
    {
     "data": {
      "text/plain": [
       "['Hii', 'my', 'name', 'is', 'NovaX']"
      ]
     },
     "execution_count": 5,
     "metadata": {},
     "output_type": "execute_result"
    }
   ],
   "source": [
    "word_tokenize(my_word)"
   ]
  },
  {
   "cell_type": "markdown",
   "id": "cd1cb5df-06a1-44a9-91f2-2e4526298e5e",
   "metadata": {},
   "source": [
    "# Stop word"
   ]
  },
  {
   "cell_type": "code",
   "execution_count": 7,
   "id": "59484314-2c9e-4610-9826-dce64a783301",
   "metadata": {},
   "outputs": [
    {
     "name": "stderr",
     "output_type": "stream",
     "text": [
      "[nltk_data] Downloading package stopwords to\n",
      "[nltk_data]     C:\\Users\\chava\\AppData\\Roaming\\nltk_data...\n",
      "[nltk_data]   Package stopwords is already up-to-date!\n"
     ]
    }
   ],
   "source": []
  },
  {
   "cell_type": "code",
   "execution_count": 8,
   "id": "f64d226b-498a-4f53-9fdd-ed6512c0e1c4",
   "metadata": {},
   "outputs": [],
   "source": [
    "word_quote = \"I was,on my way to home but!!!!!! \""
   ]
  },
  {
   "cell_type": "code",
   "execution_count": 9,
   "id": "72bca523-214f-44b9-ab80-572da58b4df0",
   "metadata": {},
   "outputs": [
    {
     "data": {
      "text/plain": [
       "['I',\n",
       " 'was',\n",
       " ',',\n",
       " 'on',\n",
       " 'my',\n",
       " 'way',\n",
       " 'to',\n",
       " 'home',\n",
       " 'but',\n",
       " '!',\n",
       " '!',\n",
       " '!',\n",
       " '!',\n",
       " '!',\n",
       " '!']"
      ]
     },
     "execution_count": 9,
     "metadata": {},
     "output_type": "execute_result"
    }
   ],
   "source": [
    "word2_in_quote=word_tokenize(word_quote)\n",
    "word2_in_quote"
   ]
  },
  {
   "cell_type": "code",
   "execution_count": null,
   "id": "de9b8d46-dba0-4054-9da2-9ef7b4789287",
   "metadata": {},
   "outputs": [],
   "source": []
  },
  {
   "cell_type": "code",
   "execution_count": 10,
   "id": "b61fb157-f226-4332-a65a-8e03b3fe5fc8",
   "metadata": {},
   "outputs": [
    {
     "data": {
      "text/plain": [
       "['Sir', ',', 'I', 'protest', '.', 'I', 'am', 'not', 'a', 'merry', 'man', '!']"
      ]
     },
     "execution_count": 10,
     "metadata": {},
     "output_type": "execute_result"
    }
   ],
   "source": [
    "worf_quote = \"Sir, I protest. I am not a merry man!\"\n",
    "words_in_quote = word_tokenize(worf_quote)\n",
    "words_in_quote"
   ]
  },
  {
   "cell_type": "code",
   "execution_count": 11,
   "id": "366a12a2-4c8b-43fb-8f94-c64865289243",
   "metadata": {},
   "outputs": [],
   "source": [
    "stop_words=set(stopwords.words(\"english\"))\n"
   ]
  },
  {
   "cell_type": "code",
   "execution_count": 12,
   "id": "cae1adde-1389-432c-b5af-a27d22fb471c",
   "metadata": {},
   "outputs": [],
   "source": [
    "filtered_list = []\n",
    "for word in words_in_quote:\n",
    "   if word.casefold() not in stop_words:\n",
    "        filtered_list.append(word)"
   ]
  },
  {
   "cell_type": "code",
   "execution_count": 13,
   "id": "59166b5b-003c-4e89-ad54-7f872fa79f0a",
   "metadata": {},
   "outputs": [
    {
     "data": {
      "text/plain": [
       "['Sir', ',', 'protest', '.', 'merry', 'man', '!']"
      ]
     },
     "execution_count": 13,
     "metadata": {},
     "output_type": "execute_result"
    }
   ],
   "source": [
    "filtered_list"
   ]
  },
  {
   "cell_type": "markdown",
   "id": "2370a33e-1314-4025-9e73-75324e46544c",
   "metadata": {},
   "source": [
    "# Stemming"
   ]
  },
  {
   "cell_type": "code",
   "execution_count": 15,
   "id": "91dc0c8f-53bd-4c39-8912-2d511bb0dcd4",
   "metadata": {},
   "outputs": [],
   "source": [
    "from nltk.stem import PorterStemmer\n",
    "from nltk.tokenize import word_tokenize"
   ]
  },
  {
   "cell_type": "code",
   "execution_count": 16,
   "id": "85a33fc3-dc0e-4879-8466-c23108235220",
   "metadata": {},
   "outputs": [],
   "source": [
    "stemmer=PorterStemmer()"
   ]
  },
  {
   "cell_type": "code",
   "execution_count": 17,
   "id": "54c93150-e448-4ca4-aa4b-2949573d6bf1",
   "metadata": {},
   "outputs": [],
   "source": [
    "string_fro_stemmer=\"Natural Language Processing, or NLP, is a branch of artificial intelligence that helps computers understand and work with human language. Think of it like teaching a computer to read and talk like a person. For example, when you use a voice assistant to ask for the weather, NLP is at work. It helps the computer listen to your words, figure out what you're asking, and then respond with the correct information. NLP is used in many everyday tools, like chatbots that answer questions online, translation apps that change one language to another, and even in grammar checkers that help us write better. By breaking down language into parts and using smart algorithms, NLP makes it easier for machines to communicate with us in a way that feels natural.\""
   ]
  },
  {
   "cell_type": "code",
   "execution_count": 18,
   "id": "b68079a8-e345-4fa1-bb7f-91f0a80706f2",
   "metadata": {},
   "outputs": [],
   "source": [
    "words=word_tokenize(string_fro_stemmer)"
   ]
  },
  {
   "cell_type": "code",
   "execution_count": 19,
   "id": "21d88754-c74f-4931-b8c4-09f5b18d4380",
   "metadata": {},
   "outputs": [
    {
     "data": {
      "text/plain": [
       "['Natural',\n",
       " 'Language',\n",
       " 'Processing',\n",
       " ',',\n",
       " 'or',\n",
       " 'NLP',\n",
       " ',',\n",
       " 'is',\n",
       " 'a',\n",
       " 'branch',\n",
       " 'of',\n",
       " 'artificial',\n",
       " 'intelligence',\n",
       " 'that',\n",
       " 'helps',\n",
       " 'computers',\n",
       " 'understand',\n",
       " 'and',\n",
       " 'work',\n",
       " 'with',\n",
       " 'human',\n",
       " 'language',\n",
       " '.',\n",
       " 'Think',\n",
       " 'of',\n",
       " 'it',\n",
       " 'like',\n",
       " 'teaching',\n",
       " 'a',\n",
       " 'computer',\n",
       " 'to',\n",
       " 'read',\n",
       " 'and',\n",
       " 'talk',\n",
       " 'like',\n",
       " 'a',\n",
       " 'person',\n",
       " '.',\n",
       " 'For',\n",
       " 'example',\n",
       " ',',\n",
       " 'when',\n",
       " 'you',\n",
       " 'use',\n",
       " 'a',\n",
       " 'voice',\n",
       " 'assistant',\n",
       " 'to',\n",
       " 'ask',\n",
       " 'for',\n",
       " 'the',\n",
       " 'weather',\n",
       " ',',\n",
       " 'NLP',\n",
       " 'is',\n",
       " 'at',\n",
       " 'work',\n",
       " '.',\n",
       " 'It',\n",
       " 'helps',\n",
       " 'the',\n",
       " 'computer',\n",
       " 'listen',\n",
       " 'to',\n",
       " 'your',\n",
       " 'words',\n",
       " ',',\n",
       " 'figure',\n",
       " 'out',\n",
       " 'what',\n",
       " 'you',\n",
       " \"'re\",\n",
       " 'asking',\n",
       " ',',\n",
       " 'and',\n",
       " 'then',\n",
       " 'respond',\n",
       " 'with',\n",
       " 'the',\n",
       " 'correct',\n",
       " 'information',\n",
       " '.',\n",
       " 'NLP',\n",
       " 'is',\n",
       " 'used',\n",
       " 'in',\n",
       " 'many',\n",
       " 'everyday',\n",
       " 'tools',\n",
       " ',',\n",
       " 'like',\n",
       " 'chatbots',\n",
       " 'that',\n",
       " 'answer',\n",
       " 'questions',\n",
       " 'online',\n",
       " ',',\n",
       " 'translation',\n",
       " 'apps',\n",
       " 'that',\n",
       " 'change',\n",
       " 'one',\n",
       " 'language',\n",
       " 'to',\n",
       " 'another',\n",
       " ',',\n",
       " 'and',\n",
       " 'even',\n",
       " 'in',\n",
       " 'grammar',\n",
       " 'checkers',\n",
       " 'that',\n",
       " 'help',\n",
       " 'us',\n",
       " 'write',\n",
       " 'better',\n",
       " '.',\n",
       " 'By',\n",
       " 'breaking',\n",
       " 'down',\n",
       " 'language',\n",
       " 'into',\n",
       " 'parts',\n",
       " 'and',\n",
       " 'using',\n",
       " 'smart',\n",
       " 'algorithms',\n",
       " ',',\n",
       " 'NLP',\n",
       " 'makes',\n",
       " 'it',\n",
       " 'easier',\n",
       " 'for',\n",
       " 'machines',\n",
       " 'to',\n",
       " 'communicate',\n",
       " 'with',\n",
       " 'us',\n",
       " 'in',\n",
       " 'a',\n",
       " 'way',\n",
       " 'that',\n",
       " 'feels',\n",
       " 'natural',\n",
       " '.']"
      ]
     },
     "execution_count": 19,
     "metadata": {},
     "output_type": "execute_result"
    }
   ],
   "source": [
    "words"
   ]
  },
  {
   "cell_type": "raw",
   "id": "b7310fd4-89b8-4a94-bfb2-64d74f5227e8",
   "metadata": {},
   "source": []
  },
  {
   "cell_type": "code",
   "execution_count": 20,
   "id": "49808639-3108-4774-a3d3-ea1b8b470e43",
   "metadata": {},
   "outputs": [],
   "source": [
    "stemmed_words=[stemmer.stem(word) for word in words]"
   ]
  },
  {
   "cell_type": "code",
   "execution_count": 21,
   "id": "a5cf68c6-425e-4162-9ef9-3d52bfa7add9",
   "metadata": {},
   "outputs": [
    {
     "data": {
      "text/plain": [
       "['natur',\n",
       " 'languag',\n",
       " 'process',\n",
       " ',',\n",
       " 'or',\n",
       " 'nlp',\n",
       " ',',\n",
       " 'is',\n",
       " 'a',\n",
       " 'branch',\n",
       " 'of',\n",
       " 'artifici',\n",
       " 'intellig',\n",
       " 'that',\n",
       " 'help',\n",
       " 'comput',\n",
       " 'understand',\n",
       " 'and',\n",
       " 'work',\n",
       " 'with',\n",
       " 'human',\n",
       " 'languag',\n",
       " '.',\n",
       " 'think',\n",
       " 'of',\n",
       " 'it',\n",
       " 'like',\n",
       " 'teach',\n",
       " 'a',\n",
       " 'comput',\n",
       " 'to',\n",
       " 'read',\n",
       " 'and',\n",
       " 'talk',\n",
       " 'like',\n",
       " 'a',\n",
       " 'person',\n",
       " '.',\n",
       " 'for',\n",
       " 'exampl',\n",
       " ',',\n",
       " 'when',\n",
       " 'you',\n",
       " 'use',\n",
       " 'a',\n",
       " 'voic',\n",
       " 'assist',\n",
       " 'to',\n",
       " 'ask',\n",
       " 'for',\n",
       " 'the',\n",
       " 'weather',\n",
       " ',',\n",
       " 'nlp',\n",
       " 'is',\n",
       " 'at',\n",
       " 'work',\n",
       " '.',\n",
       " 'it',\n",
       " 'help',\n",
       " 'the',\n",
       " 'comput',\n",
       " 'listen',\n",
       " 'to',\n",
       " 'your',\n",
       " 'word',\n",
       " ',',\n",
       " 'figur',\n",
       " 'out',\n",
       " 'what',\n",
       " 'you',\n",
       " \"'re\",\n",
       " 'ask',\n",
       " ',',\n",
       " 'and',\n",
       " 'then',\n",
       " 'respond',\n",
       " 'with',\n",
       " 'the',\n",
       " 'correct',\n",
       " 'inform',\n",
       " '.',\n",
       " 'nlp',\n",
       " 'is',\n",
       " 'use',\n",
       " 'in',\n",
       " 'mani',\n",
       " 'everyday',\n",
       " 'tool',\n",
       " ',',\n",
       " 'like',\n",
       " 'chatbot',\n",
       " 'that',\n",
       " 'answer',\n",
       " 'question',\n",
       " 'onlin',\n",
       " ',',\n",
       " 'translat',\n",
       " 'app',\n",
       " 'that',\n",
       " 'chang',\n",
       " 'one',\n",
       " 'languag',\n",
       " 'to',\n",
       " 'anoth',\n",
       " ',',\n",
       " 'and',\n",
       " 'even',\n",
       " 'in',\n",
       " 'grammar',\n",
       " 'checker',\n",
       " 'that',\n",
       " 'help',\n",
       " 'us',\n",
       " 'write',\n",
       " 'better',\n",
       " '.',\n",
       " 'by',\n",
       " 'break',\n",
       " 'down',\n",
       " 'languag',\n",
       " 'into',\n",
       " 'part',\n",
       " 'and',\n",
       " 'use',\n",
       " 'smart',\n",
       " 'algorithm',\n",
       " ',',\n",
       " 'nlp',\n",
       " 'make',\n",
       " 'it',\n",
       " 'easier',\n",
       " 'for',\n",
       " 'machin',\n",
       " 'to',\n",
       " 'commun',\n",
       " 'with',\n",
       " 'us',\n",
       " 'in',\n",
       " 'a',\n",
       " 'way',\n",
       " 'that',\n",
       " 'feel',\n",
       " 'natur',\n",
       " '.']"
      ]
     },
     "execution_count": 21,
     "metadata": {},
     "output_type": "execute_result"
    }
   ],
   "source": [
    "stemmed_words"
   ]
  },
  {
   "cell_type": "markdown",
   "id": "c8cb6b4c-0373-4daf-9138-aaa4fb7e33d6",
   "metadata": {},
   "source": [
    "# Lemmatizing"
   ]
  },
  {
   "cell_type": "code",
   "execution_count": 23,
   "id": "43fe4b16-e5de-46a0-a5a7-efee16200e40",
   "metadata": {},
   "outputs": [
    {
     "name": "stderr",
     "output_type": "stream",
     "text": [
      "[nltk_data] Downloading package wordnet to\n",
      "[nltk_data]     C:\\Users\\chava\\AppData\\Roaming\\nltk_data...\n",
      "[nltk_data]   Package wordnet is already up-to-date!\n"
     ]
    },
    {
     "data": {
      "text/plain": [
       "True"
      ]
     },
     "execution_count": 23,
     "metadata": {},
     "output_type": "execute_result"
    }
   ],
   "source": [
    " nltk.download('wordnet')"
   ]
  },
  {
   "cell_type": "code",
   "execution_count": 24,
   "id": "02348491-0c31-42d8-a123-5349b589feea",
   "metadata": {},
   "outputs": [],
   "source": [
    "from nltk.stem import WordNetLemmatizer"
   ]
  },
  {
   "cell_type": "code",
   "execution_count": 25,
   "id": "390c6398-6ddd-45a8-a503-3eef9c25f708",
   "metadata": {},
   "outputs": [],
   "source": [
    "lemmatizer= WordNetLemmatizer()"
   ]
  },
  {
   "cell_type": "code",
   "execution_count": 26,
   "id": "484ddca6-f2a1-483c-992f-e3c2f31dbfa5",
   "metadata": {},
   "outputs": [
    {
     "data": {
      "text/plain": [
       "'scarf'"
      ]
     },
     "execution_count": 26,
     "metadata": {},
     "output_type": "execute_result"
    }
   ],
   "source": [
    "lemmatizer.lemmatize(\"scarves\")"
   ]
  },
  {
   "cell_type": "code",
   "execution_count": 27,
   "id": "346ab3c5-6a41-4b5c-ad26-6a9f58316bf2",
   "metadata": {},
   "outputs": [],
   "source": [
    "string_for_lammatizing=\"My name is Nikhil Im leaving in Shirdi , . / ; ' [ ] [ \""
   ]
  },
  {
   "cell_type": "code",
   "execution_count": 28,
   "id": "c4d2407e-d5ba-4513-b235-3c4350b9c6c2",
   "metadata": {},
   "outputs": [],
   "source": [
    "words=word_tokenize(string_for_lammatizing)"
   ]
  },
  {
   "cell_type": "code",
   "execution_count": 29,
   "id": "ea45ad3a-118b-4910-908b-6cec39f1e1e5",
   "metadata": {},
   "outputs": [
    {
     "data": {
      "text/plain": [
       "['My',\n",
       " 'name',\n",
       " 'is',\n",
       " 'Nikhil',\n",
       " 'Im',\n",
       " 'leaving',\n",
       " 'in',\n",
       " 'Shirdi',\n",
       " ',',\n",
       " '.',\n",
       " '/',\n",
       " ';',\n",
       " \"'\",\n",
       " '[',\n",
       " ']',\n",
       " '[']"
      ]
     },
     "execution_count": 29,
     "metadata": {},
     "output_type": "execute_result"
    }
   ],
   "source": [
    "words"
   ]
  },
  {
   "cell_type": "code",
   "execution_count": 30,
   "id": "17d19895-dbaa-44c1-924f-5147e70615a4",
   "metadata": {},
   "outputs": [],
   "source": [
    "lammatized_words=[lemmatizer.lemmatize(word) for word in words]"
   ]
  },
  {
   "cell_type": "code",
   "execution_count": 31,
   "id": "63e42de4-8a5b-44ba-b4f2-f2860c04e676",
   "metadata": {},
   "outputs": [
    {
     "data": {
      "text/plain": [
       "['My',\n",
       " 'name',\n",
       " 'is',\n",
       " 'Nikhil',\n",
       " 'Im',\n",
       " 'leaving',\n",
       " 'in',\n",
       " 'Shirdi',\n",
       " ',',\n",
       " '.',\n",
       " '/',\n",
       " ';',\n",
       " \"'\",\n",
       " '[',\n",
       " ']',\n",
       " '[']"
      ]
     },
     "execution_count": 31,
     "metadata": {},
     "output_type": "execute_result"
    }
   ],
   "source": [
    "lammatized_words"
   ]
  },
  {
   "cell_type": "code",
   "execution_count": 32,
   "id": "e2337f73-8fc7-4b85-b56c-5fedb5fcf1ce",
   "metadata": {},
   "outputs": [
    {
     "data": {
      "text/plain": [
       "'Play'"
      ]
     },
     "execution_count": 32,
     "metadata": {},
     "output_type": "execute_result"
    }
   ],
   "source": [
    "lemmatizer.lemmatize(\"Play\")"
   ]
  },
  {
   "cell_type": "code",
   "execution_count": 69,
   "id": "e9c5a70c-dbb2-4898-85d0-cf80b446c983",
   "metadata": {},
   "outputs": [
    {
     "data": {
      "text/plain": [
       "'bad'"
      ]
     },
     "execution_count": 69,
     "metadata": {},
     "output_type": "execute_result"
    }
   ],
   "source": [
    "lemmatizer.lemmatize(\"worst\",pos=\"a\")"
   ]
  },
  {
   "cell_type": "code",
   "execution_count": null,
   "id": "80f729f6-847a-4a7d-9a54-b819395a6f59",
   "metadata": {},
   "outputs": [],
   "source": [
    "# Tagging part of speech"
   ]
  }
 ],
 "metadata": {
  "kernelspec": {
   "display_name": "Python [conda env:base] *",
   "language": "python",
   "name": "conda-base-py"
  },
  "language_info": {
   "codemirror_mode": {
    "name": "ipython",
    "version": 3
   },
   "file_extension": ".py",
   "mimetype": "text/x-python",
   "name": "python",
   "nbconvert_exporter": "python",
   "pygments_lexer": "ipython3",
   "version": "3.12.7"
  }
 },
 "nbformat": 4,
 "nbformat_minor": 5
}
